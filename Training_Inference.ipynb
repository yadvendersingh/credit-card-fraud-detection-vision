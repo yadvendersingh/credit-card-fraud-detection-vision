{
 "cells": [
  {
   "cell_type": "code",
   "execution_count": 1,
   "metadata": {},
   "outputs": [],
   "source": [
    "import os\n",
    "import time\n",
    "import numpy as np\n",
    "import torch\n",
    "from torch import nn, optim\n",
    "from torch.utils.data import DataLoader, WeightedRandomSampler\n",
    "import torchvision.transforms as T\n",
    "from torchvision.datasets import ImageFolder\n",
    "import timm\n",
    "from sklearn.metrics import accuracy_score\n"
   ]
  },
  {
   "cell_type": "code",
   "execution_count": null,
   "metadata": {},
   "outputs": [],
   "source": [
    "\n",
    "CFG = {\n",
    "    'model_name': 'mvitv2_tiny',\n",
    "    'num_classes': 2,\n",
    "    'epochs': 50,\n",
    "    'batch_size': 64,\n",
    "    'lr': 1e-4,\n",
    "    'img_size': 224,\n",
    "    'data_path': 'path_to_spectrogram_dataset',\n",
    "    'device': 'cuda' if torch.cuda.is_available() else 'cpu'\n",
    "}\n",
    "\n"
   ]
  },
  {
   "cell_type": "code",
   "execution_count": null,
   "metadata": {},
   "outputs": [],
   "source": [
    "def get_class_weights(train_dir):\n",
    "    class_counts = []\n",
    "    for class_dir in sorted(os.listdir(train_dir)):\n",
    "        class_path = os.path.join(train_dir, class_dir)\n",
    "        if os.path.isdir(class_path):\n",
    "            class_counts.append(len(os.listdir(class_path)))\n",
    "    \n",
    "    total_samples = sum(class_counts)\n",
    "    weights = [total_samples / count for count in class_counts]\n",
    "    return torch.tensor(weights, dtype=torch.float32)\n",
    "\n"
   ]
  },
  {
   "cell_type": "code",
   "execution_count": null,
   "metadata": {},
   "outputs": [],
   "source": [
    "train_transforms = T.Compose([\n",
    "    T.RandomResizedCrop(CFG['img_size']),\n",
    "    T.RandomHorizontalFlip(),\n",
    "    T.ColorJitter(brightness=0.2, contrast=0.2, saturation=0.2),\n",
    "    T.ToTensor(),\n",
    "    T.Normalize(mean=[0.485, 0.456, 0.406], std=[0.229, 0.224, 0.225])\n",
    "])\n",
    "\n",
    "val_transforms = T.Compose([\n",
    "    T.Resize(CFG['img_size'] + 32),\n",
    "    T.CenterCrop(CFG['img_size']),\n",
    "    T.ToTensor(),\n",
    "    T.Normalize(mean=[0.485, 0.456, 0.406], std=[0.229, 0.224, 0.225])\n",
    "])"
   ]
  },
  {
   "cell_type": "code",
   "execution_count": null,
   "metadata": {},
   "outputs": [],
   "source": [
    "\n",
    "train_dataset = ImageFolder(os.path.join(CFG['data_path'], 'train'), train_transforms)\n",
    "val_dataset = ImageFolder(os.path.join(CFG['data_path'], 'val'), val_transforms)\n"
   ]
  },
  {
   "cell_type": "code",
   "execution_count": 6,
   "metadata": {},
   "outputs": [],
   "source": [
    "\n",
    "# Calculate class weights and create sampler\n",
    "class_weights = get_class_weights(os.path.join(CFG['data_path'], 'train'))\n",
    "samples_weights = class_weights[train_dataset.targets]\n",
    "sampler = WeightedRandomSampler(\n",
    "    weights=samples_weights,\n",
    "    num_samples=len(samples_weights),\n",
    "    replacement=True\n",
    ")"
   ]
  },
  {
   "cell_type": "code",
   "execution_count": 8,
   "metadata": {},
   "outputs": [
    {
     "data": {
      "text/plain": [
       "(tensor([2.0055, 1.9945]),\n",
       " tensor([2.0055, 2.0055, 2.0055,  ..., 1.9945, 1.9945, 1.9945]))"
      ]
     },
     "execution_count": 8,
     "metadata": {},
     "output_type": "execute_result"
    }
   ],
   "source": [
    "class_weights, samples_weights"
   ]
  },
  {
   "cell_type": "code",
   "execution_count": 9,
   "metadata": {},
   "outputs": [],
   "source": [
    "# Data Loaders\n",
    "train_loader = DataLoader(\n",
    "    train_dataset,\n",
    "    batch_size=CFG['batch_size'],\n",
    "    sampler=sampler,\n",
    "    num_workers=4,\n",
    "    pin_memory=True\n",
    ")\n",
    "\n",
    "val_loader = DataLoader(\n",
    "    val_dataset,\n",
    "    batch_size=CFG['batch_size'],\n",
    "    shuffle=False,\n",
    "    num_workers=4,\n",
    "    pin_memory=True\n",
    ")"
   ]
  },
  {
   "cell_type": "code",
   "execution_count": 10,
   "metadata": {},
   "outputs": [],
   "source": [
    "# Model\n",
    "model = timm.create_model(CFG['model_name'], pretrained=True, num_classes=CFG['num_classes'])\n",
    "model = model.to(CFG['device'])\n",
    "\n",
    "# Loss Function with class weights\n",
    "criterion = nn.CrossEntropyLoss(weight=class_weights.to(CFG['device']))\n",
    "optimizer = optim.AdamW(model.parameters(), lr=CFG['lr'])\n",
    "scheduler = optim.lr_scheduler.CosineAnnealingLR(optimizer, T_max=CFG['epochs'])\n",
    "\n",
    "# Training Loop\n",
    "best_val_acc = 0\n"
   ]
  },
  {
   "cell_type": "code",
   "execution_count": null,
   "metadata": {},
   "outputs": [],
   "source": [
    "from tqdm import tqdm  # Add this import at the top of your file\n",
    "\n",
    "# Modified training loop with progress bars\n",
    "for epoch in range(CFG['epochs']):\n",
    "    start_time = time.time()\n",
    "    \n",
    "    # Training with progress bar\n",
    "    model.train()\n",
    "    train_loss = 0\n",
    "    train_bar = tqdm(train_loader, \n",
    "                    desc=f'Epoch {epoch+1}/{CFG[\"epochs\"]} Training', \n",
    "                    leave=False,\n",
    "                    bar_format='{l_bar}{bar:20}{r_bar}{bar:-20b}')\n",
    "    for images, labels in train_bar:\n",
    "        images = images.to(CFG['device'])\n",
    "        labels = labels.to(CFG['device'])\n",
    "        \n",
    "        optimizer.zero_grad()\n",
    "        outputs = model(images)\n",
    "        loss = criterion(outputs, labels)\n",
    "        loss.backward()\n",
    "        optimizer.step()\n",
    "        \n",
    "        train_loss += loss.item() * images.size(0)\n",
    "        train_bar.set_postfix({'loss': f'{loss.item():.4f}'})\n",
    "    \n",
    "    scheduler.step()\n",
    "    \n",
    "    # Validation with progress bar\n",
    "    model.eval()\n",
    "    val_loss = 0\n",
    "    all_preds = []\n",
    "    all_labels = []\n",
    "    val_bar = tqdm(val_loader, \n",
    "                  desc=f'Epoch {epoch+1}/{CFG[\"epochs\"]} Validating', \n",
    "                  leave=False,\n",
    "                  bar_format='{l_bar}{bar:20}{r_bar}{bar:-20b}')\n",
    "    with torch.no_grad():\n",
    "        for images, labels in val_bar:\n",
    "            images = images.to(CFG['device'])\n",
    "            labels = labels.to(CFG['device'])\n",
    "            \n",
    "            outputs = model(images)\n",
    "            loss = criterion(outputs, labels)\n",
    "            \n",
    "            val_loss += loss.item() * images.size(0)\n",
    "            preds = torch.argmax(outputs, dim=1)\n",
    "            \n",
    "            all_preds.extend(preds.cpu().numpy())\n",
    "            all_labels.extend(labels.cpu().numpy())\n",
    "            val_bar.set_postfix({'loss': f'{loss.item():.4f}'})\n",
    "    \n",
    "    # Calculate metrics\n",
    "    train_loss = train_loss / len(train_loader.dataset)\n",
    "    val_loss = val_loss / len(val_loader.dataset)\n",
    "    val_acc = accuracy_score(all_labels, all_preds)\n",
    "    \n",
    "    # Save best model\n",
    "    if val_acc > best_val_acc:\n",
    "        best_val_acc = val_acc\n",
    "        torch.save(model.state_dict(), 'best_model.pth')\n",
    "    \n",
    "    # Epoch summary\n",
    "    print(f'Epoch {epoch+1}/{CFG[\"epochs\"]} | '\n",
    "          f'Train Loss: {train_loss:.4f} | '\n",
    "          f'Val Loss: {val_loss:.4f} | '\n",
    "          f'Val Acc: {val_acc:.4f} | '\n",
    "          f'Time: {time.time()-start_time:.2f}s')\n",
    "\n",
    "print(f'Best Validation Accuracy: {best_val_acc:.4f}')"
   ]
  },
  {
   "cell_type": "code",
   "execution_count": null,
   "metadata": {},
   "outputs": [
    {
     "name": "stderr",
     "output_type": "stream",
     "text": [
      "                                                                                    \r"
     ]
    }
   ],
   "source": [
    "from tqdm import tqdm\n",
    "\n",
    "import matplotlib.pyplot as plt\n",
    "\n",
    "# Load model from checkpoint\n",
    "model.eval()\n",
    "val_loss = 0\n",
    "all_preds = []\n",
    "all_labels = []\n",
    "val_bar = tqdm(val_loader, \n",
    "                desc=f'Validating', \n",
    "                leave=False,\n",
    "                bar_format='{l_bar}{bar:20}{r_bar}{bar:-20b}')\n",
    "with torch.no_grad():\n",
    "    for images, labels in val_bar:\n",
    "        images = images.to(CFG['device'])\n",
    "        labels = labels.to(CFG['device'])\n",
    "        \n",
    "        outputs = model(images)\n",
    "        loss = criterion(outputs, labels)\n",
    "        \n",
    "        val_loss += loss.item() * images.size(0)\n",
    "        preds = torch.argmax(outputs, dim=1)\n",
    "        \n",
    "        all_preds.extend(preds.cpu().numpy())\n",
    "        all_labels.extend(labels.cpu().numpy())\n",
    "        val_bar.set_postfix({'loss': f'{loss.item():.4f}'})\n",
    "val_loss = val_loss / len(val_loader.dataset)\n",
    "val_acc = accuracy_score(all_labels, all_preds)"
   ]
  },
  {
   "cell_type": "code",
   "execution_count": 24,
   "metadata": {},
   "outputs": [
    {
     "name": "stdout",
     "output_type": "stream",
     "text": [
      "Precision: 0.9698\n",
      "Recall: 0.9697\n",
      "F1 Score: 0.9697\n",
      "Confusion Matrix:\n",
      "[[18388   699]\n",
      " [  461 18731]]\n",
      "ROC AUC: 0.9697\n"
     ]
    },
    {
     "data": {
      "image/png": "[encoded data removed]",
      "text/plain": [
       "<Figure size 640x480 with 1 Axes>"
      ]
     },
     "metadata": {},
     "output_type": "display_data"
    },
    {
     "name": "stdout",
     "output_type": "stream",
     "text": [
      "PR AUC: 0.9760\n"
     ]
    },
    {
     "data": {
      "image/png": "[encoded data removed]",
      "text/plain": [
       "<Figure size 640x480 with 1 Axes>"
      ]
     },
     "metadata": {},
     "output_type": "display_data"
    }
   ],
   "source": [
    "from sklearn.metrics import precision_score, recall_score, f1_score, confusion_matrix, roc_curve, precision_recall_curve, auc\n",
    "\n",
    "# Calculate precision\n",
    "precision = precision_score(all_labels, all_preds, average='weighted')\n",
    "print(f'Precision: {precision:.4f}')\n",
    "\n",
    "# Calculate recall\n",
    "recall = recall_score(all_labels, all_preds, average='weighted')\n",
    "print(f'Recall: {recall:.4f}')\n",
    "\n",
    "# Calculate F1 score\n",
    "f1 = f1_score(all_labels, all_preds, average='weighted')\n",
    "print(f'F1 Score: {f1:.4f}')\n",
    "\n",
    "# Calculate confusion matrix\n",
    "conf_matrix = confusion_matrix(all_labels, all_preds)\n",
    "print('Confusion Matrix:')\n",
    "print(conf_matrix)\n",
    "\n",
    "# Calculate ROC AUC\n",
    "fpr, tpr, _ = roc_curve(all_labels, all_preds)\n",
    "roc_auc = auc(fpr, tpr)\n",
    "print(f'ROC AUC: {roc_auc:.4f}')\n",
    "\n",
    "# Plot ROC Curve\n",
    "plt.figure()\n",
    "plt.plot(fpr, tpr, color='darkorange', lw=2, label=f'ROC curve (area = {roc_auc:.4f})')\n",
    "plt.plot([0, 1], [0, 1], color='navy', lw=2, linestyle='--')\n",
    "plt.xlim([0.0, 1.0])\n",
    "plt.ylim([0.0, 1.05])\n",
    "plt.xlabel('False Positive Rate')\n",
    "plt.ylabel('True Positive Rate')\n",
    "plt.title('Receiver Operating Characteristic')\n",
    "plt.legend(loc=\"lower right\")\n",
    "plt.show()\n",
    "\n",
    "# Calculate Precision-Recall Curve\n",
    "precision_curve, recall_curve, _ = precision_recall_curve(all_labels, all_preds)\n",
    "pr_auc = auc(recall_curve, precision_curve)\n",
    "print(f'PR AUC: {pr_auc:.4f}')\n",
    "\n",
    "# Plot Precision-Recall Curve\n",
    "plt.figure()\n",
    "plt.plot(recall_curve, precision_curve, color='blue', lw=2, label=f'PR curve (area = {pr_auc:.4f})')\n",
    "plt.xlabel('Recall')\n",
    "plt.ylabel('Precision')\n",
    "plt.title('Precision-Recall Curve')\n",
    "plt.legend(loc=\"lower left\")\n",
    "plt.show()"
   ]
  }
 ],
 "metadata": {
  "kernelspec": {
   "display_name": "go2",
   "language": "python",
   "name": "python3"
  },
  "language_info": {
   "codemirror_mode": {
    "name": "ipython",
    "version": 3
   },
   "file_extension": ".py",
   "mimetype": "text/x-python",
   "name": "python",
   "nbconvert_exporter": "python",
   "pygments_lexer": "ipython3",
   "version": "3.12.2"
  }
 },
 "nbformat": 4,
 "nbformat_minor": 2
}
