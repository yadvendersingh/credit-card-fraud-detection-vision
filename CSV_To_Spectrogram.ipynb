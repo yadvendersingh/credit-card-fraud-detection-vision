{
 "cells": [
  {
   "cell_type": "code",
   "execution_count": 1,
   "metadata": {},
   "outputs": [],
   "source": [
    "import os\n",
    "import pandas as pd\n",
    "import numpy as np\n",
    "import librosa\n",
    "import matplotlib.pyplot as plt\n",
    "from sklearn.model_selection import train_test_split"
   ]
  },
  {
   "cell_type": "code",
   "execution_count": null,
   "metadata": {},
   "outputs": [],
   "source": [
    "CSV_PATH = 'path_to_csv_file'\n",
    "OUTPUT_ROOT = 'path_to_output_folder_for_spectrograms'\n",
    "IMG_SIZE = (224, 224)\n",
    "TEST_SIZE = 0.2\n",
    "SEED = 42\n",
    "\n"
   ]
  },
  {
   "cell_type": "code",
   "execution_count": null,
   "metadata": {},
   "outputs": [],
   "source": [
    "# Labeling 0 for non-defaulters and 1 for defaulters\n",
    "os.makedirs(os.path.join(OUTPUT_ROOT, 'train', '0'), exist_ok=True)\n",
    "os.makedirs(os.path.join(OUTPUT_ROOT, 'train', '1'), exist_ok=True)\n",
    "os.makedirs(os.path.join(OUTPUT_ROOT, 'val', '0'), exist_ok=True)\n",
    "os.makedirs(os.path.join(OUTPUT_ROOT, 'val', '1'), exist_ok=True)\n",
    "\n",
    "\n",
    "df = pd.read_csv(CSV_PATH, na_values=['', ' ', 'NA', 'N/A'])\n",
    "def clean_data(df):\n",
    "    \n",
    "    for col in df.columns:\n",
    "        if 'bureau_enquiry' in col:\n",
    "            df[col] = pd.to_numeric(df[col], errors='coerce')\n",
    "    \n",
    "    \n",
    "    df = df.replace([np.inf, -np.inf], np.nan)\n",
    "    \n",
    "    \n",
    "    numeric_cols = df.select_dtypes(include=np.number).columns\n",
    "    df[numeric_cols] = df[numeric_cols].fillna(0)\n",
    "    \n",
    "    return df\n",
    "\n",
    "df_clean = clean_data(df)\n",
    "\n"
   ]
  },
  {
   "cell_type": "code",
   "execution_count": null,
   "metadata": {},
   "outputs": [],
   "source": [
    "features = df_clean.drop(['account_number', 'bad_flag'], axis=1)\n",
    "target = df_clean['bad_flag']\n",
    "\n",
    "X_train, X_val, y_train, y_val = train_test_split(\n",
    "    features, target, \n",
    "    test_size=TEST_SIZE, \n",
    "    stratify=target,\n",
    "    random_state=SEED\n",
    ")\n",
    "\n",
    "N_FFT = 256\n",
    "HOP_LENGTH = 128\n",
    "MIN_SIGNAL_LENGTH = N_FFT * 2"
   ]
  },
  {
   "cell_type": "code",
   "execution_count": null,
   "metadata": {},
   "outputs": [],
   "source": [
    "def safe_stft_conversion(signal, output_path):\n",
    "    \"\"\"Robust STFT conversion with enhanced validation\"\"\"\n",
    "    try:\n",
    "        signal = signal.astype(np.float32)\n",
    "        \n",
    "        if np.all(signal == 0):\n",
    "            signal += np.random.normal(0, 1e-6, signal.shape)\n",
    "            \n",
    "        if len(signal) < MIN_SIGNAL_LENGTH:\n",
    "            pad_width = MIN_SIGNAL_LENGTH - len(signal)\n",
    "            signal = np.pad(signal, (0, pad_width), mode='edge')\n",
    "            \n",
    "        stft = librosa.stft(signal, n_fft=N_FFT, hop_length=HOP_LENGTH)\n",
    "        spectrogram = librosa.amplitude_to_db(np.abs(stft), ref=np.max)\n",
    "        \n",
    "        fig = plt.figure(figsize=(IMG_SIZE[0]/100, IMG_SIZE[1]/100), dpi=100)\n",
    "        ax = fig.add_subplot(111)\n",
    "        ax.axis('off')\n",
    "        librosa.display.specshow(spectrogram, cmap='viridis')\n",
    "        plt.savefig(output_path, bbox_inches='tight', pad_inches=0)\n",
    "        plt.close()\n",
    "        return True\n",
    "        \n",
    "    except Exception as e:\n",
    "        print(f\"Failed to process: {str(e)}\")\n",
    "        return False"
   ]
  },
  {
   "cell_type": "code",
   "execution_count": null,
   "metadata": {},
   "outputs": [
    {
     "name": "stderr",
     "output_type": "stream",
     "text": [
      "Processing train dataset:   0%|          | 0/153113 [00:00<?, ?it/s]"
     ]
    },
    {
     "name": "stderr",
     "output_type": "stream",
     "text": [
      "Processing train dataset: 100%|██████████| 153113/153113 [41:22<00:00, 61.68it/s]   \n",
      "Processing val dataset: 100%|██████████| 38279/38279 [16:37<00:00, 38.37it/s]  "
     ]
    },
    {
     "name": "stdout",
     "output_type": "stream",
     "text": [
      "Dataset successfully created at /home/csgrad/yadvende/Finance_Vision/CreditCard_MVIT/dataset/\n"
     ]
    },
    {
     "name": "stderr",
     "output_type": "stream",
     "text": [
      "\n"
     ]
    }
   ],
   "source": [
    "from tqdm import tqdm\n",
    "\n",
    "def process_dataset(X, y, dataset_type):\n",
    "    for idx, (_, row) in enumerate(tqdm(X.iterrows(), total=len(X), desc=f'Processing {dataset_type} dataset')):\n",
    "        if idx >= len(y):\n",
    "            print(f\"Index {idx} is out of bounds for the target array.\")\n",
    "            continue\n",
    "        signal = row.values\n",
    "        label = y.iloc[idx]\n",
    "        class_dir = '1' if label == 1 else '0'\n",
    "        output_path = os.path.join(\n",
    "            OUTPUT_ROOT, \n",
    "            dataset_type, \n",
    "            class_dir, \n",
    "            f'{dataset_type}_{idx}.png'\n",
    "        )\n",
    "        if not safe_stft_conversion(signal, output_path):\n",
    "            continue\n",
    "\n",
    "process_dataset(X_train, y_train, 'train')\n",
    "process_dataset(X_val, y_val, 'val')\n",
    "\n",
    "print(f\"Dataset successfully created at {OUTPUT_ROOT}\")"
   ]
  }
 ],
 "metadata": {
  "kernelspec": {
   "display_name": "go2",
   "language": "python",
   "name": "python3"
  },
  "language_info": {
   "codemirror_mode": {
    "name": "ipython",
    "version": 3
   },
   "file_extension": ".py",
   "mimetype": "text/x-python",
   "name": "python",
   "nbconvert_exporter": "python",
   "pygments_lexer": "ipython3",
   "version": "3.12.2"
  }
 },
 "nbformat": 4,
 "nbformat_minor": 2
}
